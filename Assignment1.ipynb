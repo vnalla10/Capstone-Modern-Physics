{
 "cells": [
  {
   "cell_type": "code",
   "execution_count": 4,
   "id": "7b47ecae",
   "metadata": {},
   "outputs": [],
   "source": [
    "from numpy import sqrt"
   ]
  },
  {
   "cell_type": "code",
   "execution_count": 5,
   "id": "adae083d",
   "metadata": {},
   "outputs": [],
   "source": [
    "def time_to_fall(h):\n",
    "\n",
    "    \"\"\"\n",
    "    Calculates the amount of time it takes an object to fall from a height h with initial velocity of zero\n",
    "    Paramters:\n",
    "        h (float) - the height the object is falling from\n",
    "    Returns:\n",
    "        (float) time in seconds\n",
    "    \n",
    "    \"\"\"\n",
    "    return(sqrt((2*h)/10))\n",
    "    pass"
   ]
  },
  {
   "cell_type": "code",
   "execution_count": 6,
   "id": "fedcb51a",
   "metadata": {},
   "outputs": [
    {
     "name": "stdout",
     "output_type": "stream",
     "text": [
      "0.0\n"
     ]
    }
   ],
   "source": [
    "print(time_to_fall(0))\n",
    "assert(time_to_fall(0) == 0)"
   ]
  },
  {
   "cell_type": "code",
   "execution_count": 7,
   "id": "7ce52b84",
   "metadata": {},
   "outputs": [
    {
     "name": "stdout",
     "output_type": "stream",
     "text": [
      "2.0\n"
     ]
    }
   ],
   "source": [
    "print(time_to_fall(20))\n",
    "assert(time_to_fall(20) == 2)"
   ]
  },
  {
   "cell_type": "code",
   "execution_count": 8,
   "id": "8e908a30",
   "metadata": {},
   "outputs": [
    {
     "name": "stdout",
     "output_type": "stream",
     "text": [
      "2.8284271247461903\n"
     ]
    }
   ],
   "source": [
    "print(time_to_fall(40))\n",
    "assert(time_to_fall(40) == sqrt(8))"
   ]
  },
  {
   "cell_type": "code",
   "execution_count": 9,
   "id": "675372db",
   "metadata": {
    "scrolled": false
   },
   "outputs": [
    {
     "name": "stdout",
     "output_type": "stream",
     "text": [
      "Help on function time_to_fall in module __main__:\n",
      "\n",
      "time_to_fall(h)\n",
      "    Calculates the amount of time it takes an object to fall from a height h with initial velocity of zero\n",
      "    Paramters:\n",
      "        h (float) - the height the object is falling from\n",
      "    Returns:\n",
      "        (float) time in seconds\n",
      "\n"
     ]
    }
   ],
   "source": [
    "help(time_to_fall)"
   ]
  }
 ],
 "metadata": {
  "interpreter": {
   "hash": "1f6c77dadb3777c130ad5d706bc3c12a0437ec9ee82b7a71bcd0a518a6634ea9"
  },
  "kernelspec": {
   "display_name": "Python 3",
   "language": "python",
   "name": "python3"
  }
 },
 "nbformat": 4,
 "nbformat_minor": 5
}
