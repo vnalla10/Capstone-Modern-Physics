{
 "cells": [
  {
   "cell_type": "markdown",
   "metadata": {},
   "source": [
    "## Simpson's Rule"
   ]
  },
  {
   "cell_type": "code",
   "execution_count": 6,
   "metadata": {},
   "outputs": [],
   "source": [
    "import numpy as np\n",
    "import matplotlib.pyplot as plt\n",
    "from IPython.display import Image"
   ]
  },
  {
   "cell_type": "markdown",
   "metadata": {},
   "source": [
    "### Part 1: Implementing Simpson's Rule"
   ]
  },
  {
   "cell_type": "markdown",
   "metadata": {},
   "source": [
    "The trapeziodal rule approximates the area under a curve by approximating the curve with straight line segments. We can often get a much better result if we approximate the function instead with a curve of some kind. Simpson's rule does exactly this, using quadratic curves. In order to specify a quadratic completely, you need three points, not just two as with a straight line. So in this method, we take a pair of adjacent slices and fit a quadratic through the three points that mark the boundaries of those slices. Simpson's rule involves approximating the integrand with quadratics this way, then calculating the area under those quadratics, which gives an approximation to the area under the true curve."
   ]
  },
  {
   "cell_type": "code",
   "execution_count": 7,
   "metadata": {},
   "outputs": [
    {
     "data": {
      "text/html": [
       "<img src=\"./SimpsonsRule.png\" width=\"400\"/>"
      ],
      "text/plain": [
       "<IPython.core.display.Image object>"
      ]
     },
     "execution_count": 7,
     "metadata": {},
     "output_type": "execute_result"
    }
   ],
   "source": [
    "Image(url=\"./SimpsonsRule.png\", width=400)"
   ]
  },
  {
   "cell_type": "markdown",
   "metadata": {},
   "source": [
    "Suppose that our integrand is denoated $f(x)$ and the spacing of adjacent points is $h$. And for the purpose of argument that we have three points $-h, 0, h$. If we fit a quadratic $Ax^2 + Bx + C$ through these points, then by definition:\n",
    "\n",
    "$$ f(-h) = Ah^2 - Bh + C$$\n",
    "\n",
    "$$ f(0) = C$$\n",
    "\n",
    "$$ f(h) = Ah^2 + Bh + C$$"
   ]
  },
  {
   "cell_type": "markdown",
   "metadata": {},
   "source": [
    "Solving these equations simultaneously for $A$, $B$ and $C$ gives:\n",
    "\n",
    "$$ A = \\frac{1}{h^2} \\left[ \\frac{1}{2} f(-h) - f(0) + \\frac{1}{2} f(h) \\right] $$\n",
    "\n",
    "$$ B = \\frac{1}{2h} \\left[ f(h) - f(-h) \\right] $$\n",
    "\n",
    "$$ C = f(0) $$"
   ]
  },
  {
   "cell_type": "markdown",
   "metadata": {},
   "source": [
    "The area under the curve of $f(x)$ from $-h$ to $h$ is given by the approximation:\n",
    "\n",
    "$$ \\int^{h}_{-h} (Ax^2 + Bx + C) dx = \\frac{2}{3} Ah^3 + 2Ch = \\frac{1}{3} \\left[ f(-h) + 4f(0) + f(h) \\right] $$"
   ]
  },
  {
   "cell_type": "markdown",
   "metadata": {},
   "source": [
    "To use Simpson's rule to perform a general integral, note that the equation above does not depend on the fact that our three points are $-h, 0, h$. If we were to slide the curve along the x-axis to higher or lower values, the area underneath would not change. So we can use Simpson's rule for any three uniformly spaced points. If we are integrating from $x=a$ to $x=b$ in slices of width $h$, then the three points bounding the first pair of slices fal at $x=a$, $x=a+h$, and $x = a + 2h$."
   ]
  },
  {
   "cell_type": "markdown",
   "metadata": {},
   "source": [
    "$$I(a, b) \\approx \\frac{1}{3}h \\left[ f(a) + f(b) + 4\\sum_{k\\ odd} f(a + kh) + 2\\sum_{k\\ even} f(a + kh) \\right]$$"
   ]
  },
  {
   "cell_type": "markdown",
   "metadata": {},
   "source": [
    "Where $k\\ odd = 1, 3 ... N - 1$ and $k\\ even = 2, 4 ... N$. \n",
    "<b> Note, $N$ must be an even number. </b>"
   ]
  },
  {
   "cell_type": "code",
   "execution_count": 8,
   "metadata": {},
   "outputs": [],
   "source": [
    "def my_integrand(x):\n",
    "    # TO DO: Create a function that you can integrate by hand.\n",
    "    return x*2\n",
    "    pass"
   ]
  },
  {
   "cell_type": "code",
   "execution_count": 9,
   "metadata": {},
   "outputs": [],
   "source": [
    "def simpsons_rule(f, a, b, N, *args):\n",
    "    \"\"\"\n",
    "    Calculates the integral of a function `f` using Simpson's Rule\n",
    "    Parameters:\n",
    "        f (function): the integrand in the form f(x, *args) \n",
    "        a (float): the lower bound on the integral\n",
    "        b (float): the upper bound on the integral\n",
    "        N (int): number of slices to use\n",
    "        args: any additional arguments f needs to be evaluated (specifically included for the implementation below)\n",
    "    Returns:\n",
    "        (float) approximate area under the curve\n",
    "    \"\"\"\n",
    "    # TO DO: Implement Simpson's Rule\n",
    "    h=(b-a)/N\n",
    "    k=0.0\n",
    "    x=a+h\n",
    "    for i in range(1, int(N/2)):\n",
    "        x += 2*h\n",
    "        k += 4*f(x)\n",
    "    x=a+2*h\n",
    "    for i in range(2, int((N/2)-1)):\n",
    "        x += 2*h\n",
    "        k += 2*f(x)\n",
    "    return (h/3)*(f(a)+f(b)+k)\n",
    "    pass"
   ]
  },
  {
   "cell_type": "code",
   "execution_count": 10,
   "metadata": {},
   "outputs": [],
   "source": [
    "assert((simpsons_rule(lambda x: x**2, 3, 5, 10000) - ((5**3)/3 - (3**3)/3)) < 0.01)\n",
    "assert((simpsons_rule(lambda x: np.sin(x), 0, np.pi/2, 10000) - 1) < 0.01)"
   ]
  },
  {
   "cell_type": "code",
   "execution_count": 11,
   "metadata": {},
   "outputs": [],
   "source": [
    "# TO DO: Create AT LEAST TWO non-trivial assert statements to test your Simpson's Rule function\n",
    "assert(abs(simpsons_rule(lambda x: x, 1, 2, 10000) - 1.5) < 0.01)"
   ]
  },
  {
   "cell_type": "markdown",
   "metadata": {},
   "source": [
    "### Part 2: Applying Simpson's Rule"
   ]
  },
  {
   "cell_type": "markdown",
   "metadata": {},
   "source": [
    "Planetary nebula are the outer atmospheres of dying stars ejected into space. Astronomers model these nebulae to learn about the total mass they contain, and the details of how they were ejected. The image is of a rare, spherical-shell planetary nebula, Abell 38, photographed by astronomer George Jacoby (WIYN Observatory) and his colleagues using the giant, 4-meter Mayall Telescope at Kitt Peak, Arizona. Abell-38 is located 7,000 light years away in the constellation Hercules. The nebula is 5 light years in diameter and 1/3 light year thick. For other spectacular nebula images, visit the Hubble Space Telescope archive at\n",
    "http://hubblesite.org/newscenter/archive/releases/nebula"
   ]
  },
  {
   "cell_type": "code",
   "execution_count": 12,
   "metadata": {},
   "outputs": [
    {
     "data": {
      "text/html": [
       "<img src=\"https://www.researchgate.net/profile/Stefan_Guthe/publication/233532800/figure/fig3/AS:670022301151234@1536757173124/The-planetary-nebula-Abell-39-and-reconstructions-assuming-spherical-symmetry-The.ppm\" width=\"300\"/>"
      ],
      "text/plain": [
       "<IPython.core.display.Image object>"
      ]
     },
     "execution_count": 12,
     "metadata": {},
     "output_type": "execute_result"
    }
   ],
   "source": [
    "Image(url=\"https://www.researchgate.net/profile/Stefan_Guthe/publication/233532800/figure/fig3/AS:670022301151234@1536757173124/The-planetary-nebula-Abell-39-and-reconstructions-assuming-spherical-symmetry-The.ppm\", width=300)"
   ]
  },
  {
   "cell_type": "markdown",
   "metadata": {},
   "source": [
    "We want to calculate the intensity of the nebula (shaded shell) at different radii from its center $(b)$ along a series of chords through the nebula $(AB)$. The intensity, $I(b)$ will be proportional to the density of gas within the nebula, which we define as $(r)$. The shell is spherically-symmetric, as is $D(r)$, so there are obvious symmetries in the geometry of the problem. Because $D(r)$ varies along the chord AB, we have to sum-up the contribution to $I(b)$ from each spot along AB. "
   ]
  },
  {
   "cell_type": "code",
   "execution_count": 13,
   "metadata": {},
   "outputs": [
    {
     "data": {
      "text/html": [
       "<img src=\"./Diagram.png\"/>"
      ],
      "text/plain": [
       "<IPython.core.display.Image object>"
      ]
     },
     "execution_count": 13,
     "metadata": {},
     "output_type": "execute_result"
    }
   ],
   "source": [
    "Image(url=\"./Diagram.png\")"
   ]
  },
  {
   "cell_type": "markdown",
   "metadata": {},
   "source": [
    "I'll spare you the effort of creating this integral. The intensity can be written as a function of $b$:\n",
    "\n",
    "$$ I(b) = \\int^{Ro}_{Ri} \\frac{D_0 r}{\\sqrt{(r^2 - b^2)}} dr $$\n",
    "\n",
    "For the Abell 38 nebula we are interested in, $Ri = 2.2$ light years, $Ro = 2.5$ light years, and $D_0$ is a constant (for simplicity, just let $D_0 = 1$). "
   ]
  },
  {
   "cell_type": "code",
   "execution_count": 27,
   "metadata": {},
   "outputs": [],
   "source": [
    "def integrand(r, b, D0):\n",
    "    # TO DO: Write a function for the integrand for the integral described above\n",
    "    return(D0*r/np.sqrt(r**2 - b**2))\n",
    "    pass"
   ]
  },
  {
   "cell_type": "code",
   "execution_count": 28,
   "metadata": {},
   "outputs": [],
   "source": [
    "def intensity(b):\n",
    "    # TO DO: Write a function for the intensity integral using your Simpson's Rule function\n",
    "    return(simpsons_rule(lambda r: integrand(r, b, 1), 2.2, 2.5, 10000))\n",
    "    pass"
   ]
  },
  {
   "cell_type": "markdown",
   "metadata": {},
   "source": [
    "Now let's plot the intensity versus $b$ (the radial distance from the center of the nebula) from $b = 0$ to $b = 3.0$. Notice once $b^2 > r^2$ the value inside the square root will be negative. This is ok. We can handle this by letting `\n",
    "b` be a complex array and just plotting the real value of `b` and `I`. I've created the `b` array for you below. "
   ]
  },
  {
   "cell_type": "code",
   "execution_count": 30,
   "metadata": {},
   "outputs": [
    {
     "data": {
      "text/plain": [
       "[<matplotlib.lines.Line2D at 0x24d94dbdc10>]"
      ]
     },
     "execution_count": 30,
     "metadata": {},
     "output_type": "execute_result"
    },
    {
     "data": {
      "image/png": "[encoded data removed]",
      "text/plain": [
       "<Figure size 432x288 with 1 Axes>"
      ]
     },
     "metadata": {
      "needs_background": "light"
     },
     "output_type": "display_data"
    }
   ],
   "source": [
    "# TO DO: Create a line plot of the intensity using b values from 0 to 3.0\n",
    "b = np.linspace(0, 3.0, 100, dtype=np.complex128)\n",
    "plt.plot(intensity(b).real)"
   ]
  },
  {
   "cell_type": "markdown",
   "metadata": {},
   "source": [
    "Now, let's create a density plot of this intensity. Since `b` is a radial value, you'll have to `meshgrid` X and X arrays and then convert them to a radius $(r = \\sqrt{x^2 + y^2})$. Then pass this \"radial matrix\" into your intensity function. When you plot the output it should look like the nebula image above! "
   ]
  },
  {
   "cell_type": "markdown",
   "metadata": {},
   "source": [
    "Hint: Your nebula will be centered at (0,0) so in order to get the 'full nebula' in the picture, you'll want your X and Y arrays to go from [-3.0, 3.0]. "
   ]
  },
  {
   "cell_type": "code",
   "execution_count": 32,
   "metadata": {},
   "outputs": [
    {
     "data": {
      "text/plain": [
       "<matplotlib.image.AxesImage at 0x24d94e21700>"
      ]
     },
     "execution_count": 32,
     "metadata": {},
     "output_type": "execute_result"
    },
    {
     "data": {
      "image/png": "[encoded data removed]",
      "text/plain": [
       "<Figure size 720x720 with 1 Axes>"
      ]
     },
     "metadata": {
      "needs_background": "light"
     },
     "output_type": "display_data"
    }
   ],
   "source": [
    "# TO DO: Create a density plot of your intensity values for b values from 0 to 3.0\n",
    "plt.figure(figsize = (10,10))\n",
    "b = np.linspace(-3.0, 3.0, 100, dtype = np.complex128)\n",
    "XX, YY = np.meshgrid(b, b)\n",
    "RR = (XX**2 + YY**2)**0.5\n",
    "I = intensity(RR)\n",
    "plt.imshow(I.real, vmax = 4, cmap='gnuplot2')"
   ]
  }
 ],
 "metadata": {
  "kernelspec": {
   "display_name": "Python 3",
   "language": "python",
   "name": "python3"
  },
  "language_info": {
   "codemirror_mode": {
    "name": "ipython",
    "version": 3
   },
   "file_extension": ".py",
   "mimetype": "text/x-python",
   "name": "python",
   "nbconvert_exporter": "python",
   "pygments_lexer": "ipython3",
   "version": "3.8.8"
  }
 },
 "nbformat": 4,
 "nbformat_minor": 2
}
