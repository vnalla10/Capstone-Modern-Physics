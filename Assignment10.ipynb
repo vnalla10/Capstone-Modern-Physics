{
 "cells": [
  {
   "cell_type": "markdown",
   "metadata": {},
   "source": [
    "## Nodal Analysis"
   ]
  },
  {
   "cell_type": "code",
   "execution_count": 1,
   "metadata": {},
   "outputs": [],
   "source": [
    "import numpy as np\n",
    "import matplotlib.pyplot as plt"
   ]
  },
  {
   "cell_type": "markdown",
   "metadata": {},
   "source": [
    "One of the fundamental laws used in circuit analysis is Kirchhoff's Current Law (KCL). This law is summarized as the total current entering the junction must be equal to the total current leaving a junction. Since current is the flow of charge (specifically, $I = \\frac{dQ}{dt}$), this law is a statement of conservation of charge. "
   ]
  },
  {
   "cell_type": "markdown",
   "metadata": {},
   "source": [
    "We can combine KCL with Ohm's law ($V=IR$) to easily find the voltage at junctions in complex circuits where you can't (or don't want to) manually analyze the system by hand. "
   ]
  },
  {
   "cell_type": "markdown",
   "metadata": {},
   "source": [
    "I'll demonstrate this concept on the simple circuit below (the units on the resistors are in Ohms)."
   ]
  },
  {
   "cell_type": "markdown",
   "metadata": {},
   "source": [
    "<img src=\"Sample.png\">"
   ]
  },
  {
   "cell_type": "markdown",
   "metadata": {},
   "source": [
    "This circuit is really simple, and you can solve for the values of $V_1$ and $V_2$ just by looking at it. Most useful circuits are substantially more complex, but we'll start here to develop the concepts, and then apply it to more complex circuits. "
   ]
  },
  {
   "cell_type": "markdown",
   "metadata": {},
   "source": [
    "Applying KCL to $V_1$, we can obtain the following equation:\n",
    "$$ I_{V_1 \\rightarrow V_+} + I_{V_1 \\rightarrow V_2} = 0 $$\n",
    "\n",
    "If we assume the \"positive\" direction is away $V_1$, one of these current values will be negative, so that the current flowing into $V_1$ will equal the current flowing out of $V_1$. \n",
    "\n",
    "Applying Ohm's Law, we can re-write the above equation as:\n",
    "$$ \\frac{V_+ - V_1}{200} + \\frac{V_2 - V_1}{100} = 0 $$\n",
    "\n",
    "Which we can simplify to:\n",
    "\n",
    "$$ 3V_1 - 2V_2 = V_+$$"
   ]
  },
  {
   "cell_type": "markdown",
   "metadata": {},
   "source": [
    "We can do the same thing with $V_2$:\n",
    "\n",
    "$$I_{V_2 \\rightarrow V_1} + I_{V_2 \\rightarrow 0} = 0 $$\n",
    "\n",
    "$$\\frac{V_1 - V_2}{100} + \\frac{0 - V_2}{200} = 0$$\n",
    "\n",
    "$$3V_2 -2V_1 = 0$$"
   ]
  },
  {
   "cell_type": "markdown",
   "metadata": {},
   "source": [
    "Now we have a system of equations that we can express in matrix form:\n",
    "\n",
    "$$\n",
    "\\begin{bmatrix}\n",
    "3 && -2 \\\\\n",
    "-2 && 3\n",
    "\\end{bmatrix}\n",
    "\\begin{bmatrix}\n",
    "V_1 \\\\\n",
    "V_2 \n",
    "\\end{bmatrix}\n",
    "=\n",
    "\\begin{bmatrix}\n",
    "V_+\\\\\n",
    "0\n",
    "\\end{bmatrix}\n",
    "$$"
   ]
  },
  {
   "cell_type": "markdown",
   "metadata": {},
   "source": [
    "Since we know the value of $V_+$ we can write this as an augmented matrix and plug it into the solver function we created on the previous assignment. "
   ]
  },
  {
   "cell_type": "code",
   "execution_count": 2,
   "metadata": {},
   "outputs": [],
   "source": [
    "## TO DO: Copy and paste your 'solve_system(matrix)' function from yesterday's assignment. "
   ]
  },
  {
   "cell_type": "code",
   "execution_count": 3,
   "metadata": {},
   "outputs": [],
   "source": [
    "## TO DO: Create the augemented matrix for the matrix equation shown above"
   ]
  },
  {
   "cell_type": "code",
   "execution_count": 4,
   "metadata": {},
   "outputs": [],
   "source": [
    "## TO DO: Solve the matrix using your solve_system function"
   ]
  },
  {
   "cell_type": "markdown",
   "metadata": {},
   "source": [
    "Applying the same process as above, find the voltages at  $V_1$, $V_2$, $V_3$, and $V_4$."
   ]
  },
  {
   "cell_type": "markdown",
   "metadata": {},
   "source": [
    "If you want to check your answer, you can solve it by hand, or build the circuit in https://www.falstad.com/circuit/"
   ]
  },
  {
   "cell_type": "markdown",
   "metadata": {},
   "source": [
    "<img width=300px src = \"Circuit1.png\">"
   ]
  },
  {
   "cell_type": "code",
   "execution_count": 5,
   "metadata": {},
   "outputs": [],
   "source": [
    "## TO DO: Create an augmented matrix for the above circuit"
   ]
  },
  {
   "cell_type": "code",
   "execution_count": 6,
   "metadata": {},
   "outputs": [],
   "source": [
    "## TO DO: Solve the matrix using your solve_system function"
   ]
  },
  {
   "cell_type": "markdown",
   "metadata": {},
   "source": [
    "Applying the same process as above, find the voltages at  $V_1$, $V_2$, $V_3$, $V_4$, $V_5$, $V_6$, and $V_7$."
   ]
  },
  {
   "cell_type": "markdown",
   "metadata": {},
   "source": [
    "If you want to check your answer, you can solve it by hand, or build the circuit in https://www.falstad.com/circuit/"
   ]
  },
  {
   "cell_type": "markdown",
   "metadata": {},
   "source": [
    "<img src = \"Circuit2.png\">"
   ]
  },
  {
   "cell_type": "code",
   "execution_count": 7,
   "metadata": {},
   "outputs": [],
   "source": [
    "## TO DO: Create an augmented matrix for the above circuit"
   ]
  },
  {
   "cell_type": "code",
   "execution_count": 8,
   "metadata": {},
   "outputs": [],
   "source": [
    "## TO DO: Solve the matrix using your solve_system function"
   ]
  }
 ],
 "metadata": {
  "kernelspec": {
   "display_name": "Python 3",
   "language": "python",
   "name": "python3"
  },
  "language_info": {
   "codemirror_mode": {
    "name": "ipython",
    "version": 3
   },
   "file_extension": ".py",
   "mimetype": "text/x-python",
   "name": "python",
   "nbconvert_exporter": "python",
   "pygments_lexer": "ipython3",
   "version": "3.8.8"
  }
 },
 "nbformat": 4,
 "nbformat_minor": 2
}