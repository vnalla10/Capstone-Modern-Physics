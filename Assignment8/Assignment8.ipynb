{
 "cells": [
  {
   "cell_type": "markdown",
   "metadata": {},
   "source": [
    "# Interpolation"
   ]
  },
  {
   "cell_type": "code",
   "execution_count": 35,
   "metadata": {},
   "outputs": [],
   "source": [
    "import random\n",
    "import numpy as np\n",
    "import matplotlib.pyplot as plt"
   ]
  },
  {
   "cell_type": "markdown",
   "metadata": {},
   "source": [
    "### Linear Interpolation"
   ]
  },
  {
   "cell_type": "markdown",
   "metadata": {},
   "source": [
    "Suppose we are given a function $f(x)$ at just two points, $x=a$ and $x=b$, and you want to know the function at another point in between. The simplest way to find an estimate of this value is using linear interpolation. Linear interpolation assumes the function follows a straight line between two points. The slope of the straight line approximate is:\n",
    "$$ m = \\frac{f(b) - f(a)}{b - a} $$\n",
    "\n",
    "Then the value $f(x)$ can be approximated by:\n",
    "$$ f(x) \\approx \\frac{f(b) - f(a)}{b-a} (x-a) + f(a) $$"
   ]
  },
  {
   "cell_type": "markdown",
   "metadata": {},
   "source": [
    "#### Step 1: Define a linear function\n",
    "\n",
    "Create a linear function $f(x) = ax + b$. Linear interpolation will yield an accurate answer for a a linear function. This is how we will test our linear interpolation."
   ]
  },
  {
   "cell_type": "code",
   "execution_count": 36,
   "metadata": {},
   "outputs": [],
   "source": [
    "def my_function(x):\n",
    "    # TO DO: Create a linear function\n",
    "    return 2*x + 4\n",
    "    pass"
   ]
  },
  {
   "cell_type": "markdown",
   "metadata": {},
   "source": [
    "#### Step 2: Implement the linear interpolation\n",
    "Using the equations given above, implement the linear interpolation function"
   ]
  },
  {
   "cell_type": "code",
   "execution_count": 37,
   "metadata": {},
   "outputs": [],
   "source": [
    "def linear_interpolation(x, a, fa, b, fb):\n",
    "    \"\"\"\n",
    "    Fits a line to points (a, f(a)) and (b, f(b)) and returns an \n",
    "    approximation for f(x) for some value x between a and b from \n",
    "    the equation of the line.\n",
    "    Parameters:\n",
    "        x (float): the point of interest between a and b\n",
    "        a (float): known x value\n",
    "        fa (float): known f(a) value\n",
    "        b (float): known x value (b > a)\n",
    "        fb (float): known f(b) value\n",
    "    Returns:\n",
    "        (float): an approximation of f(x) using linear interpolation\n",
    "    \"\"\"\n",
    "    # To Do: Implement the linear interpolation function\n",
    "    m = (fb - fa)/(b - a)\n",
    "    return m*(x - a) + fa\n",
    "    pass"
   ]
  },
  {
   "cell_type": "markdown",
   "metadata": {},
   "source": [
    "#### Step 3: Test your linear interpolation\n",
    "Using the linear function you created and your linear interpolation function, write at least three assert statements."
   ]
  },
  {
   "cell_type": "code",
   "execution_count": 38,
   "metadata": {},
   "outputs": [],
   "source": [
    "# To DO: Create at least three assert statements using my_function and linear_interpolation\n",
    "assert((linear_interpolation(3, 1, my_function(1), 8, my_function(8)) - 10) < 0.001)"
   ]
  },
  {
   "cell_type": "markdown",
   "metadata": {},
   "source": [
    "#### Step 4: Visualization your results\n",
    "Plot your function. Using a scatter plot, plot at least three x, y points generated using your linear_interpolation function."
   ]
  },
  {
   "cell_type": "code",
   "execution_count": 39,
   "metadata": {},
   "outputs": [
    {
     "data": {
      "text/plain": [
       "<matplotlib.collections.PathCollection at 0x17c2609b250>"
      ]
     },
     "execution_count": 39,
     "metadata": {},
     "output_type": "execute_result"
    },
    {
     "data": {
      "image/png": "[encoded data removed]",
      "text/plain": [
       "<Figure size 432x288 with 1 Axes>"
      ]
     },
     "metadata": {
      "needs_background": "light"
     },
     "output_type": "display_data"
    }
   ],
   "source": [
    "# To Do: Plot your function with at least three interpolated values\n",
    "xarr = np.empty(3, dtype = float)\n",
    "yarr = np.empty(3, dtype = float)\n",
    "a = 1\n",
    "b = 10\n",
    "\n",
    "for i in range(3):\n",
    "    x = random.randint(2, 9)\n",
    "    xarr[i] = linear_interpolation(x, a, my_function(a), b, my_function(b))\n",
    "    yarr[i] = my_function(linear_interpolation(x, a, my_function(a), b, my_function(b)))\n",
    "\n",
    "plt.plot(xarr, yarr)\n",
    "plt.scatter(xarr, yarr)"
   ]
  },
  {
   "cell_type": "markdown",
   "metadata": {},
   "source": [
    "### 2nd Order Lagrangian Interpolation"
   ]
  },
  {
   "cell_type": "markdown",
   "metadata": {},
   "source": [
    "If we have more than two points, a better way to get an estimate of \"in between\" points is using a Lagrangian Interpolation. Lagrangian Interpolation fits a nth order polynomial to a number of points. Higher order polynomials often introduce unnecessary \"wiggles\" that introduce error. Using many low-order polynomials often generate a better estimate. For this example, let's use a quadratic (i.e. a 2nd order polynomial). \n",
    "\n",
    "$$f(x) = \\frac{(x-b)(x-c)}{(a - b)(a-c)}f(a) + \\frac{(x-a)(x-c)}{(b-a)(b-c)}f(b) + \\frac{(x - a)(x-b)}{(c - a)(c - b)} f(c) $$"
   ]
  },
  {
   "cell_type": "markdown",
   "metadata": {},
   "source": [
    "#### Step 1: Define a quadratic function\n",
    "\n",
    "Create a quadratic function $f(x) = ax^2 + bx + c$. 2nd Order Lagrangian Interpolation will yield an accurate answer for a 2nd order polynomial (i.e. a quadratic). This is how we will test our interpolation."
   ]
  },
  {
   "cell_type": "code",
   "execution_count": 40,
   "metadata": {},
   "outputs": [],
   "source": [
    "def my_function2(x):\n",
    "    #To Do: Create a quadratic function\n",
    "    return(x^2 + 2*x + 4)\n",
    "    pass"
   ]
  },
  {
   "cell_type": "markdown",
   "metadata": {},
   "source": [
    "#### Step 2: Implement the 2nd Order Lagrangian Interpolation Function\n",
    "Using the equations given above, implement the 2nd order lagrangian interpolation function"
   ]
  },
  {
   "cell_type": "code",
   "execution_count": 41,
   "metadata": {},
   "outputs": [],
   "source": [
    "def lagrangian_interpolation(x, a, fa, b, fb, c, fc):\n",
    "    \"\"\"\n",
    "    Fits a quadratic to points (a, f(a)), (b, f(b)), and (c, f(c)) and returns an \n",
    "    approximation for f(x) for some value x between a and c from the \n",
    "    equation of a quadratic.\n",
    "    Parameters:\n",
    "        x (float): the point of interest between a and b\n",
    "        a (float): known x value\n",
    "        fa (float): known f(a) value\n",
    "        b (float): known x value (b > a)\n",
    "        fb (float): known f(b) value\n",
    "        c (float): known x value (c > b)\n",
    "        fc (float): known f(c) value\n",
    "    Returns:\n",
    "        (float): an approximation of f(x) using linear interpolation\n",
    "    \"\"\"\n",
    "    m1 = ((x-b)*(x-c))/((a-b)*(a-c))\n",
    "    m2 = ((x-a)*(x-c))/((b-a)*(b-c))\n",
    "    m3 = ((x-a)*(x-b))/((c-a)*(c-b))\n",
    "    return(m1*fa + m2*fb + m3*fc)\n",
    "    pass"
   ]
  },
  {
   "cell_type": "markdown",
   "metadata": {},
   "source": [
    "#### Step 3: Test your results"
   ]
  },
  {
   "cell_type": "markdown",
   "metadata": {},
   "source": [
    "Using the quadratic function you created and your 2nd order lagrangian interpolation function, write at least three assert statements."
   ]
  },
  {
   "cell_type": "code",
   "execution_count": 42,
   "metadata": {},
   "outputs": [
    {
     "data": {
      "text/plain": [
       "18.460317460317462"
      ]
     },
     "execution_count": 42,
     "metadata": {},
     "output_type": "execute_result"
    }
   ],
   "source": [
    "# To Do: Write at least three assert statements\n",
    "lagrangian_interpolation(5, 1, my_function2(1), 3, my_function2(3), 10, my_function2(10))"
   ]
  },
  {
   "cell_type": "markdown",
   "metadata": {},
   "source": [
    "#### Step 4: Visualize your results\n",
    "Plot your function and using a scatter plot, plot at least three x, y points generated from your lagrangian_interpolation function."
   ]
  },
  {
   "cell_type": "code",
   "execution_count": 47,
   "metadata": {},
   "outputs": [
    {
     "ename": "SyntaxError",
     "evalue": "invalid syntax (<ipython-input-47-f2e1e9d9ebcf>, line 13)",
     "output_type": "error",
     "traceback": [
      "\u001b[1;36m  File \u001b[1;32m\"<ipython-input-47-f2e1e9d9ebcf>\"\u001b[1;36m, line \u001b[1;32m13\u001b[0m\n\u001b[1;33m    plt.plot(xarr2, yarr2)\u001b[0m\n\u001b[1;37m    ^\u001b[0m\n\u001b[1;31mSyntaxError\u001b[0m\u001b[1;31m:\u001b[0m invalid syntax\n"
     ]
    }
   ],
   "source": [
    "# To Do: Plot your function with interpolated values\n",
    "xarr2 = np.empty(5, dtype = float)\n",
    "yarr2 = np.empty(5, dtype = float)\n",
    "a = 1\n",
    "b = 5\n",
    "c = 15\n",
    "\n",
    "for i in range(5):\n",
    "    x = random.randint(2, 14)\n",
    "    xarr2[i] = lagrangian_interpolation(x, a, my_function2(a), b, my_function2(b), c, my_function2(c))\n",
    "    yarr2[i] = my_function2(linear_interpolation(x, a, my_function2(a), b, my_function2(b), c, my_function2(c))\n",
    "\n",
    "plt.plot(xarr2, yarr2)\n",
    "plt.scatter(xarr2, yarr2)"
   ]
  },
  {
   "cell_type": "markdown",
   "metadata": {},
   "source": [
    "### Application"
   ]
  },
  {
   "cell_type": "markdown",
   "metadata": {},
   "source": [
    "Also contained in this file is a text file called `Partial_Data.txt`. This contains sparse data. In this application section we're going to import the data and approximate the curve using linear and 2nd order lagranging interpolation."
   ]
  },
  {
   "cell_type": "markdown",
   "metadata": {},
   "source": [
    "#### Step 1: Import the data\n",
    "Take a look at the file and see what data it contains. I suggest using `np.loadtxt` to import this data. Using the argument `unpack = True` will allow you to easily assign each column of data to an individual variable. For more information on the `loadtxt` function and its allowed arguments, see: https://numpy.org/doc/stable/reference/generated/numpy.loadtxt.html"
   ]
  },
  {
   "cell_type": "code",
   "execution_count": 14,
   "metadata": {},
   "outputs": [],
   "source": [
    "# To Do: Import the data \n",
    "# To Do: Scatter plot the data"
   ]
  },
  {
   "cell_type": "markdown",
   "metadata": {},
   "source": [
    "#### Step 2: Linear Interpolation\n",
    "Using your linear interpolation function above, iterate through the sparse data and generate interpolated value.\n",
    "\n",
    "Here's one method to get you started:\n",
    "\n",
    "Starting at the 2nd data point, interate through the data, using the current value (let this value be $b$) and the previous data point (let this be $a$ where $b$ > $a$). Interpolate 100 points between the values of ($a, b$) and plot these values. Move onto the next data point and repeat. "
   ]
  },
  {
   "cell_type": "code",
   "execution_count": 1,
   "metadata": {},
   "outputs": [],
   "source": [
    "# To Do: Generate and plot interpolated data"
   ]
  },
  {
   "cell_type": "markdown",
   "metadata": {},
   "source": [
    "#### Step 3: 2nd Order Lagrangian Interpolation\n",
    "Using your 2nd Order Lagrangian Interpolation function above, iterate through the sparse data and generate interpolated value.\n",
    "\n",
    "Here's one method to get you started:\n",
    "\n",
    "Starting at the 3rd data point, interate through the data, using the current value (let this value be $c$) and the previous two (let these be $a$ and $b$ where $b$ > $a$). Interpolate 100 points between the values of ($a, b$) and plot these values. Move onto the next data point and repeat. "
   ]
  },
  {
   "cell_type": "code",
   "execution_count": 15,
   "metadata": {},
   "outputs": [],
   "source": [
    "# To Do: Generate and plot interpolated data"
   ]
  }
 ],
 "metadata": {
  "kernelspec": {
   "display_name": "Python 3",
   "language": "python",
   "name": "python3"
  },
  "language_info": {
   "codemirror_mode": {
    "name": "ipython",
    "version": 3
   },
   "file_extension": ".py",
   "mimetype": "text/x-python",
   "name": "python",
   "nbconvert_exporter": "python",
   "pygments_lexer": "ipython3",
   "version": "3.8.8"
  }
 },
 "nbformat": 4,
 "nbformat_minor": 2
}
